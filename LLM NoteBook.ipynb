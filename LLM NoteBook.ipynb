{
 "cells": [
  {
   "cell_type": "markdown",
   "id": "941fa129",
   "metadata": {
    "vscode": {
     "languageId": "plaintext"
    }
   },
   "source": [
    "# **Tokenizing Text**"
   ]
  },
  {
   "cell_type": "code",
   "execution_count": 34,
   "id": "6691985e",
   "metadata": {},
   "outputs": [],
   "source": [
    "import re\n",
    "from typing import Dict, List"
   ]
  },
  {
   "cell_type": "code",
   "execution_count": 15,
   "id": "9d9cf171",
   "metadata": {},
   "outputs": [],
   "source": [
    "# reading the text data\n",
    "with open(\"the-verdict.txt\", \"r\", encoding=\"utf-8\") as f:\n",
    "    raw_text = f.read()"
   ]
  },
  {
   "cell_type": "code",
   "execution_count": null,
   "id": "8d2b6aba",
   "metadata": {},
   "outputs": [],
   "source": [
    "all_words = sorted(set([m.group(0) for m in re.finditer(r'\\w+|([^\\w\\s])\\1*', raw_text)]))\n",
    "\n",
    "all_tokens.extend([\"<|endoftext|>\", \"<|unk|>\"]) \n",
    "\n",
    "#\n",
    "vocab = {token:integer for integer, token in enumerate(all_words)}"
   ]
  },
  {
   "cell_type": "code",
   "execution_count": 35,
   "id": "486c28d6",
   "metadata": {},
   "outputs": [],
   "source": [
    "class SimpleTokenizerV1:\n",
    "    def __init__(self, vocab: Dict[str, int]):\n",
    "        self.str_to_int: Dict[str, int] = vocab  # {\"!\": 0, ...}\n",
    "        self.int_to_str: Dict[int, str] = {i: s for s, i in vocab.items()}  # {0: '!',...}\n",
    "\n",
    "    def encode(self, text: str) -> List[int]:\n",
    "        # Create Tokens\n",
    "        preprocessed: List[str] = [m.group(0) for m in re.finditer(r'\\w+|([^\\w\\s])\\1*', text)]  # [\"txt1\",\"txt2\",...]\n",
    "\n",
    "        # Look for tokens in the str_to_int and get the id\n",
    "        # [\"Hello\", ...] -> {..., \"Hello\":5} -> [5, ...]\n",
    "        token_ids: List[int] = [self.str_to_int[s] for s in preprocessed]\n",
    "        return token_ids\n",
    "\n",
    "    def decode(self, ids: List[int]) -> str:\n",
    "        # Look for ID in the int_to_str and get the token\n",
    "        # [5, ...] -> {..., 5:\"Hello\"} -> \"Hello...\" \n",
    "        text: str = \" \".join([self.int_to_str[i] for i in ids])\n",
    "        text = re.sub(r\"\\s+([^\\w\\s])\", r\"\\1\", text)\n",
    "        return text"
   ]
  },
  {
   "cell_type": "code",
   "execution_count": 36,
   "id": "71ccf2e4",
   "metadata": {},
   "outputs": [
    {
     "name": "stdout",
     "output_type": "stream",
     "text": [
      "[1, 57, 2, 868, 1007, 616, 547, 761, 5, 1145, 610, 5, 1, 68, 8, 39, 869, 1127, 770, 811, 8]\n"
     ]
    }
   ],
   "source": [
    "tokenizer = SimpleTokenizerV1(vocab) \n",
    "text = \"\"\"\"It's the last he painted, you know,\"  \n",
    "Mrs. Gisburn said with pardonable pride.\"\"\" \n",
    "ids = tokenizer.encode(text) \n",
    "print(ids)"
   ]
  },
  {
   "cell_type": "code",
   "execution_count": 37,
   "id": "8b677a34",
   "metadata": {},
   "outputs": [
    {
     "data": {
      "text/plain": [
       "'\" It\\' s the last he painted, you know,\" Mrs. Gisburn said with pardonable pride.'"
      ]
     },
     "execution_count": 37,
     "metadata": {},
     "output_type": "execute_result"
    }
   ],
   "source": [
    "tokenizer.decode(ids)"
   ]
  },
  {
   "cell_type": "code",
   "execution_count": 38,
   "id": "3804e7cc",
   "metadata": {},
   "outputs": [
    {
     "ename": "KeyError",
     "evalue": "'Hello'",
     "output_type": "error",
     "traceback": [
      "\u001b[31m---------------------------------------------------------------------------\u001b[39m",
      "\u001b[31mKeyError\u001b[39m                                  Traceback (most recent call last)",
      "\u001b[36mCell\u001b[39m\u001b[36m \u001b[39m\u001b[32mIn[38]\u001b[39m\u001b[32m, line 1\u001b[39m\n\u001b[32m----> \u001b[39m\u001b[32m1\u001b[39m \u001b[43mtokenizer\u001b[49m\u001b[43m.\u001b[49m\u001b[43mencode\u001b[49m\u001b[43m(\u001b[49m\u001b[33;43m\"\u001b[39;49m\u001b[33;43mHello\u001b[39;49m\u001b[33;43m\"\u001b[39;49m\u001b[43m)\u001b[49m\n",
      "\u001b[36mCell\u001b[39m\u001b[36m \u001b[39m\u001b[32mIn[35]\u001b[39m\u001b[32m, line 12\u001b[39m, in \u001b[36mSimpleTokenizerV1.encode\u001b[39m\u001b[34m(self, text)\u001b[39m\n\u001b[32m      8\u001b[39m preprocessed: List[\u001b[38;5;28mstr\u001b[39m] = [m.group(\u001b[32m0\u001b[39m) \u001b[38;5;28;01mfor\u001b[39;00m m \u001b[38;5;129;01min\u001b[39;00m re.finditer(\u001b[33mr\u001b[39m\u001b[33m'\u001b[39m\u001b[33m\\\u001b[39m\u001b[33mw+|([^\u001b[39m\u001b[33m\\\u001b[39m\u001b[33mw\u001b[39m\u001b[33m\\\u001b[39m\u001b[33ms])\u001b[39m\u001b[33m\\\u001b[39m\u001b[33m1*\u001b[39m\u001b[33m'\u001b[39m, text)]  \u001b[38;5;66;03m# [\"txt1\",\"txt2\",...]\u001b[39;00m\n\u001b[32m     10\u001b[39m \u001b[38;5;66;03m# Look for tokens in the str_to_int and get the id\u001b[39;00m\n\u001b[32m     11\u001b[39m \u001b[38;5;66;03m# [\"Hello\", ...] -> {..., \"Hello\":5} -> [5, ...]\u001b[39;00m\n\u001b[32m---> \u001b[39m\u001b[32m12\u001b[39m token_ids: List[\u001b[38;5;28mint\u001b[39m] = [\u001b[38;5;28;43mself\u001b[39;49m\u001b[43m.\u001b[49m\u001b[43mstr_to_int\u001b[49m\u001b[43m[\u001b[49m\u001b[43ms\u001b[49m\u001b[43m]\u001b[49m \u001b[38;5;28;01mfor\u001b[39;00m s \u001b[38;5;129;01min\u001b[39;00m preprocessed]\n\u001b[32m     13\u001b[39m \u001b[38;5;28;01mreturn\u001b[39;00m token_ids\n",
      "\u001b[31mKeyError\u001b[39m: 'Hello'"
     ]
    }
   ],
   "source": [
    "tokenizer.encode(\"Hello\")"
   ]
  }
 ],
 "metadata": {
  "kernelspec": {
   "display_name": "Python 3",
   "language": "python",
   "name": "python3"
  },
  "language_info": {
   "codemirror_mode": {
    "name": "ipython",
    "version": 3
   },
   "file_extension": ".py",
   "mimetype": "text/x-python",
   "name": "python",
   "nbconvert_exporter": "python",
   "pygments_lexer": "ipython3",
   "version": "3.13.3"
  }
 },
 "nbformat": 4,
 "nbformat_minor": 5
}
